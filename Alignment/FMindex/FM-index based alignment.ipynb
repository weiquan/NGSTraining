{
 "cells": [
  {
   "cell_type": "markdown",
   "metadata": {},
   "source": [
    "#基于FM-index的序列比对算法"
   ]
  },
  {
   "cell_type": "markdown",
   "metadata": {},
   "source": [
    "##1. 什么是序列比对？\n",
    "为确定两个或多个序列之间的相似性以至于同源性，而将它们按照一定的规律排列。"
   ]
  },
  {
   "cell_type": "markdown",
   "metadata": {},
   "source": [
    "###用个例子来看一下吧!\n",
    "先看看数据是个啥。\n",
    "读取Reads.fq文件，这是一个fastq格式的文件，存放了2条Read。read1， read2表示两条read的名字，名字下面是两条read对应的序列信息。"
   ]
  },
  {
   "cell_type": "code",
   "execution_count": 3,
   "metadata": {
    "collapsed": false
   },
   "outputs": [
    {
     "name": "stdout",
     "output_type": "stream",
     "text": [
      "read1\n",
      "ACATATATACCAGGACTCGTACAGTACGACCAGGAGAGACAGACTTAC\n",
      "read2\n",
      "ACCATATATACCAGGACACGTACAGTACCCAGGAGAGAGAGACTTAC\n"
     ]
    }
   ],
   "source": [
    "from Bio import SeqIO, pairwise2\n",
    "handle = open(\"../data/Reads.fa\", \"r\")\n",
    "records = list(SeqIO.parse(handle, \"fasta\"))\n",
    "handle.close()\n",
    "for record in records:\n",
    "    print record.id\n",
    "    print record.seq"
   ]
  },
  {
   "cell_type": "markdown",
   "metadata": {},
   "source": [
    "###现在对这两个Read比对一下看看是什么效果"
   ]
  },
  {
   "cell_type": "code",
   "execution_count": 4,
   "metadata": {
    "collapsed": false,
    "scrolled": true
   },
   "outputs": [
    {
     "name": "stdout",
     "output_type": "stream",
     "text": [
      "[('AC-ATATATACCAGGACTCGTACAGTACGACCAGGAGAGACAGACTTAC', 'ACCATATATACCAGGACACGTACAGTAC--CCAGGAGAGAGAGACTTAC', 44.0, 0, 49), ('A-CATATATACCAGGACTCGTACAGTACGACCAGGAGAGACAGACTTAC', 'ACCATATATACCAGGACACGTACAGTAC--CCAGGAGAGAGAGACTTAC', 44.0, 0, 49)]\n"
     ]
    }
   ],
   "source": [
    "seq1 = str(records[0].seq)\n",
    "seq2 = str(records[1].seq)\n",
    "alignments = pairwise2.align.globalxx(seq1, seq2)\n",
    "print alignments"
   ]
  },
  {
   "cell_type": "markdown",
   "metadata": {},
   "source": [
    "###好像不太直观，换个方式来看一看"
   ]
  },
  {
   "cell_type": "code",
   "execution_count": 5,
   "metadata": {
    "collapsed": false
   },
   "outputs": [
    {
     "name": "stdout",
     "output_type": "stream",
     "text": [
      "AC-ATATATACCAGGACTCGTACAGTACGACCAGGAGAGACAGACTTAC\n",
      "|||||||||||||||||||||||||||||||||||||||||||||||||\n",
      "ACCATATATACCAGGACACGTACAGTAC--CCAGGAGAGAGAGACTTAC\n",
      "  Score=44\n",
      "\n",
      "A-CATATATACCAGGACTCGTACAGTACGACCAGGAGAGACAGACTTAC\n",
      "|||||||||||||||||||||||||||||||||||||||||||||||||\n",
      "ACCATATATACCAGGACACGTACAGTAC--CCAGGAGAGAGAGACTTAC\n",
      "  Score=44\n",
      "\n"
     ]
    }
   ],
   "source": [
    "from Bio.pairwise2 import format_alignment\n",
    "for aln in alignments : print(format_alignment(*aln))"
   ]
  },
  {
   "cell_type": "markdown",
   "metadata": {
    "collapsed": true
   },
   "source": [
    "###简单解释一下这个结果\n",
    "这里出现了两个最佳比对，它们的Score都是44。\n",
    "在每个最佳比对中，用竖线直观显示字符间对齐。\n",
    "'-'表示空格， 例如，在第一个最佳比对中， read1的\"AC-A\"与read2的\"ACCA\"对齐，在第2个位置(位置从0开始)处read2比read1多了一个字符'C'。\n",
    "\n",
    "\n",
    "我们管read2比read1在第2个位置处多了一个字符的情况，称为1个插入(__insertion__)，反之，称为删除(__deletion__)。\n",
    "对齐的字符如果相同，称为__match__，不同称为__mismatch__。\n",
    "###总结一下\n",
    "    insertion:              '_' => 'A'\n",
    "    deletion：              'A' => '_'\n",
    "    match:                  'A' => 'A'\n",
    "    mismatch:               'A' => 'C'\n",
    "###把第一个最佳比对的mismatch、insertion和deletion都找出来"
   ]
  },
  {
   "cell_type": "code",
   "execution_count": 6,
   "metadata": {
    "collapsed": false
   },
   "outputs": [
    {
     "name": "stdout",
     "output_type": "stream",
     "text": [
      "- -> C\n",
      "T -> A\n",
      "G -> -\n",
      "A -> -\n",
      "C -> G\n"
     ]
    }
   ],
   "source": [
    "edit = [(i, j) for i, j in zip(alignments[0][0], alignments[0][1]) if i != j]\n",
    "for e in edit: print e[0], '->', e[1]"
   ]
  },
  {
   "cell_type": "markdown",
   "metadata": {},
   "source": [
    "##2. BWT, SA和FM-index\n",
    "###先说说什么是SA\n",
    "给定一个字符串S, 它的序列是这个样子的。"
   ]
  },
  {
   "cell_type": "code",
   "execution_count": 42,
   "metadata": {
    "collapsed": true
   },
   "outputs": [],
   "source": [
    "S = 'ATCGAAGTG'"
   ]
  },
  {
   "cell_type": "markdown",
   "metadata": {},
   "source": [
    "为了计算的方便，我们给s加一个'$'，用来标示字符串结尾。"
   ]
  },
  {
   "cell_type": "code",
   "execution_count": 43,
   "metadata": {
    "collapsed": true
   },
   "outputs": [],
   "source": [
    "S += '$'"
   ]
  },
  {
   "cell_type": "markdown",
   "metadata": {},
   "source": [
    "__SA(suffix array)__是一个数组，它是以字典序的方式保存了S中所有后缀在S中的开始位置。\n",
    "\n",
    "\n",
    "下面继续看例子，我们用Pos数组存放了S的所有后缀的开始位置。"
   ]
  },
  {
   "cell_type": "code",
   "execution_count": 44,
   "metadata": {
    "collapsed": false
   },
   "outputs": [
    {
     "name": "stdout",
     "output_type": "stream",
     "text": [
      "[0, 1, 2, 3, 4, 5, 6, 7, 8, 9]\n"
     ]
    }
   ],
   "source": [
    "Pos = range(len(S))\n",
    "print Pos\n"
   ]
  },
  {
   "cell_type": "markdown",
   "metadata": {},
   "source": [
    "以字典序的方式对Pos数组排序。"
   ]
  },
  {
   "cell_type": "code",
   "execution_count": 45,
   "metadata": {
    "collapsed": false
   },
   "outputs": [
    {
     "name": "stdout",
     "output_type": "stream",
     "text": [
      "[9, 4, 5, 0, 2, 8, 3, 6, 1, 7]\n"
     ]
    }
   ],
   "source": [
    "SA = sorted(Pos, key=lambda x:S[x:])\n",
    "print SA"
   ]
  },
  {
   "cell_type": "markdown",
   "metadata": {},
   "source": [
    "再看一下SA这些位置对应的后缀。"
   ]
  },
  {
   "cell_type": "code",
   "execution_count": 46,
   "metadata": {
    "collapsed": false
   },
   "outputs": [
    {
     "name": "stdout",
     "output_type": "stream",
     "text": [
      "TG$\n",
      "CGAAGTG$\n",
      "G$\n",
      "$\n",
      "AGTG$\n",
      "TCGAAGTG$\n",
      "ATCGAAGTG$\n",
      "GAAGTG$\n",
      "AAGTG$\n",
      "GTG$\n"
     ]
    }
   ],
   "source": [
    "for i in SA: print S[SA[i]:]  "
   ]
  },
  {
   "cell_type": "markdown",
   "metadata": {},
   "source": [
    "放在一起对比一下。"
   ]
  },
  {
   "cell_type": "code",
   "execution_count": 47,
   "metadata": {
    "collapsed": false
   },
   "outputs": [
    {
     "name": "stdout",
     "output_type": "stream",
     "text": [
      "Index\tSA\tSuffix\n",
      "0\t9\t$\n",
      "1\t4\tAAGTG$\n",
      "2\t5\tAGTG$\n",
      "3\t0\tATCGAAGTG$\n",
      "4\t2\tCGAAGTG$\n",
      "5\t8\tG$\n",
      "6\t3\tGAAGTG$\n",
      "7\t6\tGTG$\n",
      "8\t1\tTCGAAGTG$\n",
      "9\t7\tTG$\n"
     ]
    }
   ],
   "source": [
    "print 'Index\\tSA\\tSuffix'\n",
    "for i, p in enumerate(SA): print '{0}\\t{1}\\t{2}'.format(i, p, S[p:])"
   ]
  },
  {
   "cell_type": "markdown",
   "metadata": {},
   "source": [
    "###再来看一看什么是BWT\n",
    "__BWT__是S的一个排列，其中BWT[i] = S[SA[i]-1]"
   ]
  },
  {
   "cell_type": "code",
   "execution_count": 48,
   "metadata": {
    "collapsed": false
   },
   "outputs": [
    {
     "name": "stdout",
     "output_type": "stream",
     "text": [
      "GGA$TTCAAG\n"
     ]
    }
   ],
   "source": [
    "BWT = ''.join([S[x-1]for x in SA])\n",
    "print BWT"
   ]
  },
  {
   "cell_type": "markdown",
   "metadata": {},
   "source": [
    "再放一起看一下。"
   ]
  },
  {
   "cell_type": "code",
   "execution_count": 49,
   "metadata": {
    "collapsed": false
   },
   "outputs": [
    {
     "name": "stdout",
     "output_type": "stream",
     "text": [
      "Index\tSA\tBWT\tSuffix\n",
      "0\t9\tG\t$\n",
      "1\t4\tG\tAAGTG$\n",
      "2\t5\tA\tAGTG$\n",
      "3\t0\t$\tATCGAAGTG$\n",
      "4\t2\tT\tCGAAGTG$\n",
      "5\t8\tT\tG$\n",
      "6\t3\tC\tGAAGTG$\n",
      "7\t6\tA\tGTG$\n",
      "8\t1\tA\tTCGAAGTG$\n",
      "9\t7\tG\tTG$\n"
     ]
    }
   ],
   "source": [
    "print 'Index\\tSA\\tBWT\\tSuffix'\n",
    "for i, p in enumerate(SA): print '{0}\\t{1}\\t{2}\\t{3}'.format(i, p, S[p-1],S[p:])"
   ]
  },
  {
   "cell_type": "markdown",
   "metadata": {},
   "source": [
    "发现了什么？\n",
    "\n",
    "BWT[i]的字符是字符串s中SA[i]-1位置的字符，而Suffix[i]是S中SA[i]位置开始的后缀，也就是说其实BWT[i]是Suffix[i]的前一个字符。\n",
    "为了更清楚的观察，我们这回用BWM矩阵，代表以字典序的方式排列S中的所有轮转(rotation)。"
   ]
  },
  {
   "cell_type": "code",
   "execution_count": 52,
   "metadata": {
    "collapsed": false
   },
   "outputs": [
    {
     "name": "stdout",
     "output_type": "stream",
     "text": [
      "Index\tSA\tBWT\tBWM\n",
      "0\t9\tG\t$ATCGAAGTG\n",
      "1\t4\tG\tAAGTG$ATCG\n",
      "2\t5\tA\tAGTG$ATCGA\n",
      "3\t0\t$\tATCGAAGTG$\n",
      "4\t2\tT\tCGAAGTG$AT\n",
      "5\t8\tT\tG$ATCGAAGT\n",
      "6\t3\tC\tGAAGTG$ATC\n",
      "7\t6\tA\tGTG$ATCGAA\n",
      "8\t1\tA\tTCGAAGTG$A\n",
      "9\t7\tG\tTG$ATCGAAG\n"
     ]
    }
   ],
   "source": [
    "print 'Index\\tSA\\tBWT\\tBWM'\n",
    "for i, p in enumerate(SA): print '{0}\\t{1}\\t{2}\\t{3}'.format(i, p, s[p-1],(s+s)[p:p+len(s)])"
   ]
  },
  {
   "cell_type": "markdown",
   "metadata": {},
   "source": [
    "对比BWT和BWM发现，其实BWT就是BWM的最后一列。(想一想可以直接用SA来生成BMW)"
   ]
  },
  {
   "cell_type": "markdown",
   "metadata": {},
   "source": [
    "###来看一个比较有趣的问题\n",
    "__问题：__ 如果已知BWT串，我们是否能用BWT还原出原始串S？\n",
    "答案是肯定的。\n",
    "\n",
    "\n",
    "我们先用BWT还原出BWM的第一列，\n",
    "只需将BWT排序就可获得BWM的第一列。(想想为什么？)    "
   ]
  },
  {
   "cell_type": "code",
   "execution_count": 58,
   "metadata": {
    "collapsed": false
   },
   "outputs": [
    {
     "name": "stdout",
     "output_type": "stream",
     "text": [
      "$AAACGGGTT\n"
     ]
    }
   ],
   "source": [
    "firstCol = ''.join(sorted(BWT))\n",
    "print firstCol"
   ]
  },
  {
   "cell_type": "markdown",
   "metadata": {},
   "source": [
    "BWT作为BWM的最后一列，和firstCol有啥关系呢？\n",
    "\n",
    "我们换一个方式来表示BWM，我们用字符在S上的位置表示每个rotation。"
   ]
  },
  {
   "cell_type": "code",
   "execution_count": 63,
   "metadata": {
    "collapsed": false
   },
   "outputs": [
    {
     "name": "stdout",
     "output_type": "stream",
     "text": [
      "Index\tSA\tBWT\tBWM'\tBWM\n",
      "0\t9\tG\t9012345678\t$ATCGAAGTG\n",
      "1\t4\tG\t4567890123\tAAGTG$ATCG\n",
      "2\t5\tA\t5678901234\tAGTG$ATCGA\n",
      "3\t0\t$\t0123456789\tATCGAAGTG$\n",
      "4\t2\tT\t2345678901\tCGAAGTG$AT\n",
      "5\t8\tT\t8901234567\tG$ATCGAAGT\n",
      "6\t3\tC\t3456789012\tGAAGTG$ATC\n",
      "7\t6\tA\t6789012345\tGTG$ATCGAA\n",
      "8\t1\tA\t1234567890\tTCGAAGTG$A\n",
      "9\t7\tG\t7890123456\tTG$ATCGAAG\n"
     ]
    }
   ],
   "source": [
    "print 'Index\\tSA\\tBWT\\tBWM\\'\\tBWM'\n",
    "for i, p in enumerate(SA): \n",
    "    print '{0}\\t{1}\\t{2}\\t{3}\\t{4}'.format(i, p, s[p-1],''.join(map(str, range(len(S))[p:]+range(len(s))[:p])),(s+s)[p:p+len(s)])"
   ]
  },
  {
   "cell_type": "markdown",
   "metadata": {},
   "source": [
    "对比BWM'与BWM发现以下的性质：\n",
    "  1. 在BWM中最后一列(BWT)中的字符在S中的位置比BMW中第一列(firstCol)中的字符在S中的位置小1；(从BWM'中可以看出)\n",
    "  2. 来自于S上同一位置的字符C，在BWM的第一列与最后一列中的所有字符C中的相对位置相同。例如BWM的第一列中第二个字符'A'与最后一列的第二个字符'A'，都来自于S的位置5。"
   ]
  },
  {
   "cell_type": "code",
   "execution_count": null,
   "metadata": {
    "collapsed": true
   },
   "outputs": [],
   "source": []
  }
 ],
 "metadata": {
  "kernelspec": {
   "display_name": "Python 2",
   "language": "python",
   "name": "python2"
  },
  "language_info": {
   "codemirror_mode": {
    "name": "ipython",
    "version": 2
   },
   "file_extension": ".py",
   "mimetype": "text/x-python",
   "name": "python",
   "nbconvert_exporter": "python",
   "pygments_lexer": "ipython2",
   "version": "2.7.6"
  }
 },
 "nbformat": 4,
 "nbformat_minor": 0
}
