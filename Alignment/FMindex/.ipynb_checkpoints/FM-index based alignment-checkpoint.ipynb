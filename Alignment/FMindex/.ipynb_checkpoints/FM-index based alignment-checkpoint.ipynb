{
 "cells": [
  {
   "cell_type": "markdown",
   "metadata": {},
   "source": [
    "#基于FM-index的序列比对算法"
   ]
  },
  {
   "cell_type": "markdown",
   "metadata": {},
   "source": [
    "##1. 什么是序列比对？\n",
    "为确定两个或多个序列之间的相似性以至于同源性，而将它们按照一定的规律排列。"
   ]
  },
  {
   "cell_type": "markdown",
   "metadata": {},
   "source": [
    "###用个例子来看一下吧!\n",
    "先看看数据是个啥。"
   ]
  },
  {
   "cell_type": "code",
   "execution_count": 19,
   "metadata": {
    "collapsed": false
   },
   "outputs": [
    {
     "name": "stdout",
     "output_type": "stream",
     "text": [
      "read1\n",
      "ACATATATACCAGGACTCGTACAGTACGACCAGGAGAGACAGACTTAC\n",
      "read2\n",
      "ACCATATATACCAGGACACGTACAGTACCCAGGAGAGAGAGACTTAC\n"
     ]
    },
    {
     "data": {
      "text/plain": [
       "SeqRecord(seq=Seq('ACCATATATACCAGGACACGTACAGTACCCAGGAGAGAGAGACTTAC', SingleLetterAlphabet()), id='read2', name='read2', description='read2', dbxrefs=[])"
      ]
     },
     "execution_count": 19,
     "metadata": {},
     "output_type": "execute_result"
    }
   ],
   "source": [
    "from Bio import SeqIO, pairwise2\n",
    "handle = open(\"../data/Reads.fa\", \"r\")\n",
    "records = list(SeqIO.parse(handle, \"fasta\"))\n",
    "handle.close()\n",
    "for record in records:\n",
    "    print record.id\n",
    "    print record.seq"
   ]
  },
  {
   "cell_type": "markdown",
   "metadata": {},
   "source": [
    "###现在对这两个Read比对一下看看是什么效果"
   ]
  },
  {
   "cell_type": "code",
   "execution_count": 29,
   "metadata": {
    "collapsed": false
   },
   "outputs": [
    {
     "name": "stdout",
     "output_type": "stream",
     "text": [
      "[('AC-ATATATACCAGGACTCGTACAGTACGACCAGGAGAGACAGACTTAC', 'ACCATATATACCAGGACACGTACAGTAC--CCAGGAGAGAGAGACTTAC', 44.0, 0, 49), ('A-CATATATACCAGGACTCGTACAGTACGACCAGGAGAGACAGACTTAC', 'ACCATATATACCAGGACACGTACAGTAC--CCAGGAGAGAGAGACTTAC', 44.0, 0, 49)]\n"
     ]
    }
   ],
   "source": [
    "seq1 = str(records[0].seq)\n",
    "seq2 = str(records[1].seq)\n",
    "alignments = pairwise2.align.globalxx(seq1, seq2)\n",
    "print alignments"
   ]
  },
  {
   "cell_type": "markdown",
   "metadata": {},
   "source": [
    "好像不太直观，换个方式来看一看"
   ]
  },
  {
   "cell_type": "code",
   "execution_count": 30,
   "metadata": {
    "collapsed": false
   },
   "outputs": [
    {
     "name": "stdout",
     "output_type": "stream",
     "text": [
      "AC-ATATATACCAGGACTCGTACAGTACGACCAGGAGAGACAGACTTAC\n",
      "|||||||||||||||||||||||||||||||||||||||||||||||||\n",
      "ACCATATATACCAGGACACGTACAGTAC--CCAGGAGAGAGAGACTTAC\n",
      "  Score=44\n",
      "\n",
      "A-CATATATACCAGGACTCGTACAGTACGACCAGGAGAGACAGACTTAC\n",
      "|||||||||||||||||||||||||||||||||||||||||||||||||\n",
      "ACCATATATACCAGGACACGTACAGTAC--CCAGGAGAGAGAGACTTAC\n",
      "  Score=44\n",
      "\n"
     ]
    }
   ],
   "source": [
    "from Bio.pairwise2 import format_alignment\n",
    "for aln in alignments : print(format_alignment(*aln))"
   ]
  },
  {
   "cell_type": "code",
   "execution_count": null,
   "metadata": {
    "collapsed": true
   },
   "outputs": [],
   "source": [
    "简单解释一下"
   ]
  }
 ],
 "metadata": {
  "kernelspec": {
   "display_name": "Python 2",
   "language": "python",
   "name": "python2"
  },
  "language_info": {
   "codemirror_mode": {
    "name": "ipython",
    "version": 2
   },
   "file_extension": ".py",
   "mimetype": "text/x-python",
   "name": "python",
   "nbconvert_exporter": "python",
   "pygments_lexer": "ipython2",
   "version": "2.7.3"
  }
 },
 "nbformat": 4,
 "nbformat_minor": 0
}
